{
  "nbformat": 4,
  "nbformat_minor": 0,
  "metadata": {
    "colab": {
      "provenance": [],
      "authorship_tag": "ABX9TyOyWePl7y68ivwYejGBPzM3",
      "include_colab_link": true
    },
    "kernelspec": {
      "name": "python3",
      "display_name": "Python 3"
    },
    "language_info": {
      "name": "python"
    }
  },
  "cells": [
    {
      "cell_type": "markdown",
      "metadata": {
        "id": "view-in-github",
        "colab_type": "text"
      },
      "source": [
        "<a href=\"https://colab.research.google.com/github/jojoagh/teamwork_python_lab/blob/khaldoun/lab2task3script.ipynb\" target=\"_parent\"><img src=\"https://colab.research.google.com/assets/colab-badge.svg\" alt=\"Open In Colab\"/></a>"
      ]
    },
    {
      "cell_type": "code",
      "execution_count": 19,
      "metadata": {
        "id": "xY3NURlabU0p"
      },
      "outputs": [],
      "source": [
        "def function1():\n",
        " return"
      ]
    },
    {
      "cell_type": "code",
      "source": [
        "def function2():\n",
        "  return"
      ],
      "metadata": {
        "id": "vRTrlDxFex-m"
      },
      "execution_count": 20,
      "outputs": []
    },
    {
      "cell_type": "code",
      "source": [
        "def function3():\n",
        "  c = print('Khalduon')\n",
        "  return c"
      ],
      "metadata": {
        "id": "tP7BMPmVe3c_"
      },
      "execution_count": 21,
      "outputs": []
    },
    {
      "cell_type": "code",
      "source": [
        "def function4():\n",
        "  d = print('Fayad')\n",
        "  return"
      ],
      "metadata": {
        "id": "MCsY6ME3e7j5"
      },
      "execution_count": 22,
      "outputs": []
    },
    {
      "cell_type": "code",
      "source": [
        "function1()\n",
        "function2()\n",
        "function3()\n",
        "function4()"
      ],
      "metadata": {
        "colab": {
          "base_uri": "https://localhost:8080/"
        },
        "id": "uNmgudJ5fC2c",
        "outputId": "2851ed87-0fae-423c-b479-62421b5bcd36"
      },
      "execution_count": 23,
      "outputs": [
        {
          "output_type": "stream",
          "name": "stdout",
          "text": [
            "Khalduon\n",
            "Fayad\n"
          ]
        }
      ]
    },
    {
      "cell_type": "code",
      "source": [],
      "metadata": {
        "id": "NKO_tUI8fKjK"
      },
      "execution_count": null,
      "outputs": []
    }
  ]
}