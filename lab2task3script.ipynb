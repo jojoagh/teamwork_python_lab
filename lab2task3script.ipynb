{
  "nbformat": 4,
  "nbformat_minor": 0,
  "metadata": {
    "colab": {
      "provenance": [],
      "authorship_tag": "ABX9TyNDvMEbyqLysNfeWHsIje9w",
      "include_colab_link": true
    },
    "kernelspec": {
      "name": "python3",
      "display_name": "Python 3"
    },
    "language_info": {
      "name": "python"
    }
  },
  "cells": [
    {
      "cell_type": "markdown",
      "metadata": {
        "id": "view-in-github",
        "colab_type": "text"
      },
      "source": [
        "<a href=\"https://colab.research.google.com/github/jojoagh/teamwork_python_lab/blob/Joel/lab2task3script.ipynb\" target=\"_parent\"><img src=\"https://colab.research.google.com/assets/colab-badge.svg\" alt=\"Open In Colab\"/></a>"
      ]
    },
    {
      "cell_type": "code",
      "execution_count": 15,
      "metadata": {
        "id": "xY3NURlabU0p"
      },
      "outputs": [],
      "source": [
        "def function1():\n",
        " a = print('Joel')\n",
        " return a"
      ]
    },
    {
      "cell_type": "code",
      "source": [
        "def function2():\n",
        "  b = print('Mukaratirwa')\n",
        "  return b"
      ],
      "metadata": {
        "id": "vRTrlDxFex-m"
      },
      "execution_count": 14,
      "outputs": []
    },
    {
      "cell_type": "code",
      "source": [
        "def function3():\n",
        "  return"
      ],
      "metadata": {
        "id": "tP7BMPmVe3c_"
      },
      "execution_count": 16,
      "outputs": []
    },
    {
      "cell_type": "code",
      "source": [
        "def function4():\n",
        "  return"
      ],
      "metadata": {
        "id": "MCsY6ME3e7j5"
      },
      "execution_count": 17,
      "outputs": []
    },
    {
      "cell_type": "code",
      "source": [
        "function1()\n",
        "function2()\n",
        "function3()\n",
        "function4()"
      ],
      "metadata": {
        "colab": {
          "base_uri": "https://localhost:8080/"
        },
        "id": "uNmgudJ5fC2c",
        "outputId": "e4833810-3e3a-4de9-c0f8-f86b3a5541a1"
      },
      "execution_count": 18,
      "outputs": [
        {
          "output_type": "stream",
          "name": "stdout",
          "text": [
            "Joel\n",
            "Mukaratirwa\n"
          ]
        }
      ]
    },
    {
      "cell_type": "code",
      "source": [],
      "metadata": {
        "id": "NKO_tUI8fKjK"
      },
      "execution_count": null,
      "outputs": []
    }
  ]
}