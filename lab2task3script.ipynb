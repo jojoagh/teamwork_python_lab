{
  "nbformat": 4,
  "nbformat_minor": 0,
  "metadata": {
    "colab": {
      "provenance": [],
      "authorship_tag": "ABX9TyP6/MVLDgw6JpHBPweN+TPM",
      "include_colab_link": true
    },
    "kernelspec": {
      "name": "python3",
      "display_name": "Python 3"
    },
    "language_info": {
      "name": "python"
    }
  },
  "cells": [
    {
      "cell_type": "markdown",
      "metadata": {
        "id": "view-in-github",
        "colab_type": "text"
      },
      "source": [
        "<a href=\"https://colab.research.google.com/github/jojoagh/teamwork_python_lab/blob/khaldoun/lab2task3script.ipynb\" target=\"_parent\"><img src=\"https://colab.research.google.com/assets/colab-badge.svg\" alt=\"Open In Colab\"/></a>"
      ]
    },
    {
      "cell_type": "code",
      "execution_count": 24,
      "metadata": {
        "id": "xY3NURlabU0p"
      },
      "outputs": [],
      "source": [
        "def function1():\n",
        " return"
      ]
    },
    {
      "cell_type": "code",
      "source": [
        "def function2():\n",
        "  return"
      ],
      "metadata": {
        "id": "vRTrlDxFex-m"
      },
      "execution_count": 25,
      "outputs": []
    },
    {
      "cell_type": "code",
      "source": [
        "def function3():\n",
        "  c = print('Khaldoun')\n",
        "  return c"
      ],
      "metadata": {
        "id": "tP7BMPmVe3c_"
      },
      "execution_count": 26,
      "outputs": []
    },
    {
      "cell_type": "code",
      "source": [
        "def function4():\n",
        "  d = print('Fayad')\n",
        "  return d"
      ],
      "metadata": {
        "id": "MCsY6ME3e7j5"
      },
      "execution_count": 27,
      "outputs": []
    },
    {
      "cell_type": "code",
      "source": [
        "function1()\n",
        "function2()\n",
        "function3()\n",
        "function4()"
      ],
      "metadata": {
        "colab": {
          "base_uri": "https://localhost:8080/"
        },
        "id": "uNmgudJ5fC2c",
        "outputId": "930dad0b-7a2e-484e-d59d-531541224921"
      },
      "execution_count": 28,
      "outputs": [
        {
          "output_type": "stream",
          "name": "stdout",
          "text": [
            "Khaldoun\n",
            "Fayad\n"
          ]
        }
      ]
    },
    {
      "cell_type": "code",
      "source": [],
      "metadata": {
        "id": "NKO_tUI8fKjK"
      },
      "execution_count": null,
      "outputs": []
    }
  ]
}